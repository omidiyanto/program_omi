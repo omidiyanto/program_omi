{
  "nbformat": 4,
  "nbformat_minor": 0,
  "metadata": {
    "colab": {
      "name": "Stack and Queue.ipynb",
      "provenance": [],
      "authorship_tag": "ABX9TyPmt76/JB3k7w1A/ujk74Av",
      "include_colab_link": true
    },
    "kernelspec": {
      "name": "python3",
      "display_name": "Python 3"
    },
    "language_info": {
      "name": "python"
    }
  },
  "cells": [
    {
      "cell_type": "markdown",
      "metadata": {
        "id": "view-in-github",
        "colab_type": "text"
      },
      "source": [
        "<a href=\"https://colab.research.google.com/github/omidiyanto/tutorial-colab/blob/main/Stack_and_Queue.ipynb\" target=\"_parent\"><img src=\"https://colab.research.google.com/assets/colab-badge.svg\" alt=\"Open In Colab\"/></a>"
      ]
    },
    {
      "cell_type": "code",
      "metadata": {
        "colab": {
          "base_uri": "https://localhost:8080/"
        },
        "id": "mOFI0ONw52Hc",
        "outputId": "39c156b2-18fe-4c8d-fb03-4f4964f7d5fb"
      },
      "source": [
        "#stack\n",
        "list_buku=[\"buku 1\", \"buku 2\", \"buku 3\", \"buku 4\",\"buku 5\"]\n",
        "print(\"List buku saat ini: \",list_buku)\n",
        "opsi=input(\"Ketik 'y' untuk mengambil buku: \")\n",
        "print(\"\\n\")\n",
        "if(opsi=='y'):\n",
        "  buku_terambil=list_buku.pop();\n",
        "  print(buku_terambil,\"telah diambil\\nList buku saat ini: \",list_buku)\n",
        "else:\n",
        "  print(\"maaf anda salah memasukkan huruf\")"
      ],
      "execution_count": 4,
      "outputs": [
        {
          "output_type": "stream",
          "name": "stdout",
          "text": [
            "List buku saat ini:  ['buku 1', 'buku 2', 'buku 3', 'buku 4', 'buku 5']\n",
            "Ketik 'y' untuk mengambil buku: y\n",
            "\n",
            "\n",
            "buku 5 telah diambil\n",
            "List buku saat ini:  ['buku 1', 'buku 2', 'buku 3', 'buku 4']\n"
          ]
        }
      ]
    },
    {
      "cell_type": "code",
      "metadata": {
        "colab": {
          "base_uri": "https://localhost:8080/"
        },
        "id": "l0iUtSBs7GTm",
        "outputId": "2c4b40b8-a6cf-49fa-fc46-b6bfc7448976"
      },
      "source": [
        "#queue\n",
        "from collections import deque\n",
        "nomor_antrian=deque([\"A01\",\"A02\",\"A03\",\"A04\"])\n",
        "print(\"Nomor antrian saat ini: \",nomor_antrian)\n",
        "opsi2=input(\"Ketik 'x' untuk memanggil nomor antrian: \")\n",
        "print(\"\\n\")\n",
        "if(opsi2=='x'):\n",
        "  nomor_dipanggil=nomor_antrian.popleft()\n",
        "  print(nomor_dipanggil,\"Silahkan menuju loker A\\nNomor antrian saat ini: \",nomor_antrian)\n",
        "else:\n",
        "  print(\"maaf anda salah memasukkan huruf\")"
      ],
      "execution_count": 9,
      "outputs": [
        {
          "output_type": "stream",
          "name": "stdout",
          "text": [
            "Nomor antrian saat ini:  deque(['A01', 'A02', 'A03', 'A04'])\n",
            "Ketik 'x' untuk memanggil nomor antrian: x\n",
            "\n",
            "\n",
            "A01 Silahkan menuju loker A\n",
            "Nomor antrian saat ini:  deque(['A02', 'A03', 'A04'])\n"
          ]
        }
      ]
    }
  ]
}
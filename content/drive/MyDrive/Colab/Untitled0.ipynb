{
  "nbformat": 4,
  "nbformat_minor": 0,
  "metadata": {
    "colab": {
      "name": "Untitled0.ipynb",
      "provenance": [],
      "collapsed_sections": [],
      "mount_file_id": "1RhZccnvV0uXhNDYmpPsThSPQpUkjRpdG",
      "authorship_tag": "ABX9TyPMDEKwbc0b725DgzqE2pbx",
      "include_colab_link": true
    },
    "kernelspec": {
      "name": "python3",
      "display_name": "Python 3"
    },
    "language_info": {
      "name": "python"
    }
  },
  "cells": [
    {
      "cell_type": "markdown",
      "metadata": {
        "id": "view-in-github",
        "colab_type": "text"
      },
      "source": [
        "<a href=\"https://colab.research.google.com/github/omidiyanto/tutorial-colab/blob/main/content/drive/MyDrive/Colab/Untitled0.ipynb\" target=\"_parent\"><img src=\"https://colab.research.google.com/assets/colab-badge.svg\" alt=\"Open In Colab\"/></a>"
      ]
    },
    {
      "cell_type": "code",
      "metadata": {
        "colab": {
          "base_uri": "https://localhost:8080/"
        },
        "id": "VA2WHtqt_cnG",
        "outputId": "4e0981a0-7cee-4482-e079-dfd350f3193d"
      },
      "source": [
        "nama=\"O. Midiyanto\"\n",
        "nim=\"2001010021\"\n",
        "alamat=\"Jl.D.I.Pandjaitan Km.9 No17\"\n",
        "print(\"Nama: \",nama)\n",
        "print(\"NIM: \",nim)\n",
        "print(\"Alamat: \",alamat)"
      ],
      "execution_count": 9,
      "outputs": [
        {
          "output_type": "stream",
          "name": "stdout",
          "text": [
            "Nama:  O. Midiyanto\n",
            "NIM:  2001010021\n",
            "Alamat:  Jl.D.I.Pandjaitan Km.9 No17\n"
          ]
        }
      ]
    }
  ]
}
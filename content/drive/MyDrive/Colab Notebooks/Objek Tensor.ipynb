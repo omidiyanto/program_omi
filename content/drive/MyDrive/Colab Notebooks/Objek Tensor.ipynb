{
  "nbformat": 4,
  "nbformat_minor": 0,
  "metadata": {
    "colab": {
      "name": "Objek Tensor.ipynb",
      "provenance": [],
      "collapsed_sections": [],
      "mount_file_id": "1wsJnLqF-anbBNbsa0XBi_UrfRKbNi3Jc",
      "authorship_tag": "ABX9TyMHrAtA4+1mOjoeDW48wGhG",
      "include_colab_link": true
    },
    "kernelspec": {
      "name": "python3",
      "display_name": "Python 3"
    },
    "language_info": {
      "name": "python"
    }
  },
  "cells": [
    {
      "cell_type": "markdown",
      "metadata": {
        "id": "view-in-github",
        "colab_type": "text"
      },
      "source": [
        "<a href=\"https://colab.research.google.com/github/omidiyanto/tutorial-colab/blob/main/content/drive/MyDrive/Colab%20Notebooks/Objek%20Tensor.ipynb\" target=\"_parent\"><img src=\"https://colab.research.google.com/assets/colab-badge.svg\" alt=\"Open In Colab\"/></a>"
      ]
    },
    {
      "cell_type": "code",
      "metadata": {
        "id": "xPM8x20o_5Yp"
      },
      "source": [
        "import tensorflow as tf"
      ],
      "execution_count": 2,
      "outputs": []
    },
    {
      "cell_type": "code",
      "metadata": {
        "id": "W-bUs_KGAYOZ"
      },
      "source": [
        "nama=tf.constant(\"O. Midiyanto\")\n",
        "nim=tf.constant(\"2001010021\")\n",
        "nilai=tf.constant(21)"
      ],
      "execution_count": 7,
      "outputs": []
    },
    {
      "cell_type": "code",
      "metadata": {
        "colab": {
          "base_uri": "https://localhost:8080/"
        },
        "id": "gthjk0N1ApBX",
        "outputId": "3dca5e01-a962-44ec-d2e4-255a9b9a4a11"
      },
      "source": [
        "print(nama)"
      ],
      "execution_count": 4,
      "outputs": [
        {
          "output_type": "stream",
          "name": "stdout",
          "text": [
            "tf.Tensor(b'O. Midiyanto', shape=(), dtype=string)\n"
          ]
        }
      ]
    },
    {
      "cell_type": "code",
      "metadata": {
        "colab": {
          "base_uri": "https://localhost:8080/"
        },
        "id": "JEx8aJCPArDj",
        "outputId": "94c1c98d-fe90-4365-a52a-6cc7cf648b8b"
      },
      "source": [
        "type(nama)"
      ],
      "execution_count": 5,
      "outputs": [
        {
          "output_type": "execute_result",
          "data": {
            "text/plain": [
              "tensorflow.python.framework.ops.EagerTensor"
            ]
          },
          "metadata": {},
          "execution_count": 5
        }
      ]
    },
    {
      "cell_type": "code",
      "metadata": {
        "colab": {
          "base_uri": "https://localhost:8080/"
        },
        "id": "ToxCLCfNA9ZO",
        "outputId": "cbd1d8d8-e98a-4edc-a308-3db6fc464cb3"
      },
      "source": [
        "tf.print(nama)"
      ],
      "execution_count": 6,
      "outputs": [
        {
          "output_type": "stream",
          "name": "stdout",
          "text": [
            "O. Midiyanto\n"
          ]
        }
      ]
    },
    {
      "cell_type": "code",
      "metadata": {
        "colab": {
          "base_uri": "https://localhost:8080/"
        },
        "id": "IU01Zs1oBJ2e",
        "outputId": "1fa3265c-51c5-4b21-947c-c831e9b52176"
      },
      "source": [
        "tf.print(nama + ' ' + nim)"
      ],
      "execution_count": 9,
      "outputs": [
        {
          "output_type": "stream",
          "name": "stdout",
          "text": [
            "O. Midiyanto 2001010021\n"
          ]
        }
      ]
    },
    {
      "cell_type": "code",
      "metadata": {
        "colab": {
          "base_uri": "https://localhost:8080/"
        },
        "id": "sj6S2wuKBc11",
        "outputId": "5cdc16ee-aab8-4d1c-b1b9-dfadac035661"
      },
      "source": [
        "tf.print(nim,nilai)"
      ],
      "execution_count": 11,
      "outputs": [
        {
          "output_type": "stream",
          "name": "stdout",
          "text": [
            "\"2001010021\" 21\n"
          ]
        }
      ]
    }
  ]
}
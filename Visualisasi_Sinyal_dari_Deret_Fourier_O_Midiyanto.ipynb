{
  "nbformat": 4,
  "nbformat_minor": 0,
  "metadata": {
    "colab": {
      "name": "Visualisasi Sinyal dari Deret Fourier - O. Midiyanto.ipynb",
      "provenance": [],
      "collapsed_sections": [],
      "authorship_tag": "ABX9TyPrALzg0dlUL8w3KMTSCHbV",
      "include_colab_link": true
    },
    "kernelspec": {
      "name": "python3",
      "display_name": "Python 3"
    },
    "language_info": {
      "name": "python"
    }
  },
  "cells": [
    {
      "cell_type": "markdown",
      "metadata": {
        "id": "view-in-github",
        "colab_type": "text"
      },
      "source": [
        "<a href=\"https://colab.research.google.com/github/omidiyanto/tutorial-colab/blob/main/Visualisasi_Sinyal_dari_Deret_Fourier_O_Midiyanto.ipynb\" target=\"_parent\"><img src=\"https://colab.research.google.com/assets/colab-badge.svg\" alt=\"Open In Colab\"/></a>"
      ]
    },
    {
      "cell_type": "code",
      "execution_count": 1,
      "metadata": {
        "colab": {
          "base_uri": "https://localhost:8080/",
          "height": 279
        },
        "id": "4e70cYoTtoro",
        "outputId": "19398dd7-8dbb-4b1f-dddf-0016049df0a3"
      },
      "outputs": [
        {
          "output_type": "display_data",
          "data": {
            "image/png": "[encoded data removed]",
            "text/plain": [
              "<Figure size 432x288 with 1 Axes>"
            ]
          },
          "metadata": {
            "needs_background": "light"
          }
        }
      ],
      "source": [
        "#T=8, w0=pi/4, a0=0\n",
        "#an dan bn untuk n genap =0\n",
        "#n ganjil ketika n=3,7,11,dst maka nilai x(t) negatif\n",
        "#an=T/(n*pi)\n",
        "#x(t)=sigma((1,infinite)an*cos(n*w0*t))\n",
        "#x(t)=a1*cos(1*w0*t)+a3*cos(3*w0*t)+a5*cos(5*w0*t) + ....\n",
        "#x(t)=(8/(1*pi))*cos(1*w0*t) - (8/(3*pi))*cos(3*w0*t) + ....\n",
        "#x(t)= +- ((T/(n*pi))*cos(n*w0*t))\n",
        "\n",
        "import matplotlib.pyplot as plt\n",
        "import numpy as np\n",
        "from math import pi\n",
        "\n",
        "T=8\n",
        "w0=pi/4\n",
        "\n",
        "n_start=1\n",
        "n_finish=1000\n",
        "\n",
        "Xt=0\n",
        "t=np.arange(-3*pi,3*pi,0.005)\n",
        "\n",
        "for n in range(n_start,n_finish+1,2):\n",
        "    if(n in range(n_start+2,n_finish+1,4)):\n",
        "        Y=-1*((T/(n*pi))*np.cos(n*w0*t))\n",
        "        Xt+=Y\n",
        "    else:\n",
        "        Y=1*((T/(n*pi))*np.cos(n*w0*t))\n",
        "        Xt+=Y\n",
        "\n",
        "plt.plot(t,Xt)\n",
        "plt.xlabel(\"Waktu\")\n",
        "plt.ylabel(\"Amplitudo\")\n",
        "plt.show()\n",
        "        "
      ]
    }
  ]
}